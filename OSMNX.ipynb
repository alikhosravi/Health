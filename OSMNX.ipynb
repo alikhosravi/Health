{
  "nbformat": 4,
  "nbformat_minor": 0,
  "metadata": {
    "colab": {
      "provenance": [],
      "collapsed_sections": [],
      "authorship_tag": "ABX9TyNbrySxVqgpvHapUXAsh9v1",
      "include_colab_link": true
    },
    "kernelspec": {
      "name": "python3",
      "display_name": "Python 3"
    },
    "language_info": {
      "name": "python"
    }
  },
  "cells": [
    {
      "cell_type": "markdown",
      "metadata": {
        "id": "view-in-github",
        "colab_type": "text"
      },
      "source": [
        "<a href=\"https://colab.research.google.com/github/alikhosravi/Spatial-Accessibility/blob/main/OSMNX.ipynb\" target=\"_parent\"><img src=\"https://colab.research.google.com/assets/colab-badge.svg\" alt=\"Open In Colab\"/></a>"
      ]
    },
    {
      "cell_type": "code",
      "execution_count": null,
      "metadata": {
        "id": "-gUTe3twF07F"
      },
      "outputs": [],
      "source": [
        "!pip install osmnx"
      ]
    },
    {
      "cell_type": "markdown",
      "source": [],
      "metadata": {
        "id": "RrECRvPrNZvt"
      }
    },
    {
      "cell_type": "code",
      "source": [
        "G = ox.graph_from_place('Arak, Markazi, Iran', network_type='drive')\n",
        "G = ox.speed.add_edge_speeds(G)\n",
        "G = ox.speed.add_edge_travel_times(G)"
      ],
      "metadata": {
        "id": "7VYlMp5H-oaP"
      },
      "execution_count": null,
      "outputs": []
    },
    {
      "cell_type": "code",
      "source": [
        "center_node = ox.distance.nearest_nodes(G, 49.705401951953874, 34.0751695051128, return_dist=False)\n",
        "subgraph = nx.ego_graph(G, center_node, radius=1000, distance='length')\n",
        "subgraph.edges\n",
        "#G.nodes[4088938506]\n",
        "Corr = list()\n",
        "for node in subgraph.nodes:\n",
        "  n = G.nodes[node]\n",
        "  Corr.append([n['y'], n['x']])\n",
        "subgraph.edges\n",
        "#G_prj = ox.projection.project_graph(G, to_crs=\"EPSG:32639\")\n",
        "#G_prj.nodes[4088938506]\n"
      ],
      "metadata": {
        "id": "J_dE3R4Y6PNY"
      },
      "execution_count": null,
      "outputs": []
    },
    {
      "cell_type": "code",
      "source": [
        "Polylines = list()\n",
        "for edge in subgraph.edges:\n",
        "  Corr = list()\n",
        "  for corner in edge[:2]:\n",
        "    n = G.nodes[corner]\n",
        "    Corr.append([n['y'], n['x']])\n",
        "    Polylines.append(Corr)"
      ],
      "metadata": {
        "id": "665gtPHPBjV5"
      },
      "execution_count": null,
      "outputs": []
    },
    {
      "cell_type": "code",
      "source": [
        "Polylines"
      ],
      "metadata": {
        "id": "P2khFoD0BjKP"
      },
      "execution_count": null,
      "outputs": []
    },
    {
      "cell_type": "code",
      "source": [
        "import folium\n",
        "import osmnx as ox\n",
        "import networkx as nx\n",
        "ox.config(use_cache=True, log_console=True)\n",
        "\n",
        "#G = ox.graph_from_point((34.0751695051128, 49.705401951953874), dist=3000, network_type='walk')\n",
        "G = ox.graph_from_place('Arak, Markazi, Iran', network_type='drive')\n",
        "G = ox.speed.add_edge_speeds(G)\n",
        "G = ox.speed.add_edge_travel_times(G)\n",
        "\n",
        "\n",
        "orig = ox.get_nearest_node(G, (34.0751695051128, 49.705401951953874))\n",
        "dest = ox.get_nearest_node(G, (34.07359578536033, 49.70597876633484))\n",
        "route = nx.shortest_path(G, orig, dest, 'travel_time')\n",
        "route_map = ox.plot_route_folium(G, route)\n",
        "route_map"
      ],
      "metadata": {
        "colab": {
          "base_uri": "https://localhost:8080/",
          "height": 853
        },
        "id": "OhgAYdM0fzHQ",
        "outputId": "d56f1f0e-ec09-48b8-ad1c-d92ab25834ab"
      },
      "execution_count": null,
      "outputs": [
        {
          "output_type": "stream",
          "name": "stderr",
          "text": [
            "/usr/local/lib/python3.7/dist-packages/osmnx/distance.py:356: UserWarning: The `get_nearest_node` function has been deprecated and will be removed in a future release. Use the more efficient `distance.nearest_nodes` instead.\n",
            "  warnings.warn(msg)\n",
            "/usr/local/lib/python3.7/dist-packages/osmnx/distance.py:356: UserWarning: The `get_nearest_node` function has been deprecated and will be removed in a future release. Use the more efficient `distance.nearest_nodes` instead.\n",
            "  warnings.warn(msg)\n"
          ]
        },
        {
          "output_type": "execute_result",
          "data": {
            "text/plain": [
              "<folium.folium.Map at 0x7f60fd5366d0>"
            ],
            "text/html": [
              "<div style=\"width:100%;\"><div style=\"position:relative;width:100%;height:0;padding-bottom:60%;\"><span style=\"color:#565656\">Make this Notebook Trusted to load map: File -> Trust Notebook</span><iframe srcdoc=\"&lt;!DOCTYPE html&gt;\n",
              "&lt;head&gt;    \n",
              "    &lt;meta http-equiv=&quot;content-type&quot; content=&quot;text/html; charset=UTF-8&quot; /&gt;\n",
              "    &lt;script&gt;L_PREFER_CANVAS=false; L_NO_TOUCH=false; L_DISABLE_3D=false;&lt;/script&gt;\n",
              "    &lt;script src=&quot;https://cdn.jsdelivr.net/npm/leaflet@1.4.0/dist/leaflet.js&quot;&gt;&lt;/script&gt;\n",
              "    &lt;script src=&quot;https://code.jquery.com/jquery-1.12.4.min.js&quot;&gt;&lt;/script&gt;\n",
              "    &lt;script src=&quot;https://maxcdn.bootstrapcdn.com/bootstrap/3.2.0/js/bootstrap.min.js&quot;&gt;&lt;/script&gt;\n",
              "    &lt;script src=&quot;https://cdnjs.cloudflare.com/ajax/libs/Leaflet.awesome-markers/2.0.2/leaflet.awesome-markers.js&quot;&gt;&lt;/script&gt;\n",
              "    &lt;link rel=&quot;stylesheet&quot; href=&quot;https://cdn.jsdelivr.net/npm/leaflet@1.4.0/dist/leaflet.css&quot;/&gt;\n",
              "    &lt;link rel=&quot;stylesheet&quot; href=&quot;https://maxcdn.bootstrapcdn.com/bootstrap/3.2.0/css/bootstrap.min.css&quot;/&gt;\n",
              "    &lt;link rel=&quot;stylesheet&quot; href=&quot;https://maxcdn.bootstrapcdn.com/bootstrap/3.2.0/css/bootstrap-theme.min.css&quot;/&gt;\n",
              "    &lt;link rel=&quot;stylesheet&quot; href=&quot;https://maxcdn.bootstrapcdn.com/font-awesome/4.6.3/css/font-awesome.min.css&quot;/&gt;\n",
              "    &lt;link rel=&quot;stylesheet&quot; href=&quot;https://cdnjs.cloudflare.com/ajax/libs/Leaflet.awesome-markers/2.0.2/leaflet.awesome-markers.css&quot;/&gt;\n",
              "    &lt;link rel=&quot;stylesheet&quot; href=&quot;https://rawcdn.githack.com/python-visualization/folium/master/folium/templates/leaflet.awesome.rotate.css&quot;/&gt;\n",
              "    &lt;style&gt;html, body {width: 100%;height: 100%;margin: 0;padding: 0;}&lt;/style&gt;\n",
              "    &lt;style&gt;#map {position:absolute;top:0;bottom:0;right:0;left:0;}&lt;/style&gt;\n",
              "    \n",
              "    &lt;meta name=&quot;viewport&quot; content=&quot;width=device-width,\n",
              "        initial-scale=1.0, maximum-scale=1.0, user-scalable=no&quot; /&gt;\n",
              "    &lt;style&gt;#map_9430b7f9fd895f40df8f8b73ea0206b0 {\n",
              "        position: relative;\n",
              "        width: 100.0%;\n",
              "        height: 100.0%;\n",
              "        left: 0.0%;\n",
              "        top: 0.0%;\n",
              "        }\n",
              "    &lt;/style&gt;\n",
              "&lt;/head&gt;\n",
              "&lt;body&gt;    \n",
              "    \n",
              "    &lt;div class=&quot;folium-map&quot; id=&quot;map_9430b7f9fd895f40df8f8b73ea0206b0&quot; &gt;&lt;/div&gt;\n",
              "&lt;/body&gt;\n",
              "&lt;script&gt;    \n",
              "    \n",
              "    \n",
              "        var bounds = null;\n",
              "    \n",
              "\n",
              "    var map_9430b7f9fd895f40df8f8b73ea0206b0 = L.map(\n",
              "        &#x27;map_9430b7f9fd895f40df8f8b73ea0206b0&#x27;, {\n",
              "        center: [34.07423872478645, 49.70535256997769],\n",
              "        zoom: 1,\n",
              "        maxBounds: bounds,\n",
              "        layers: [],\n",
              "        worldCopyJump: false,\n",
              "        crs: L.CRS.EPSG3857,\n",
              "        zoomControl: true,\n",
              "        });\n",
              "\n",
              "\n",
              "    \n",
              "    var tile_layer_50f03379f96c6ceaa3f9b487fbdd7ed0 = L.tileLayer(\n",
              "        &#x27;https://cartodb-basemaps-{s}.global.ssl.fastly.net/light_all/{z}/{x}/{y}.png&#x27;,\n",
              "        {\n",
              "        &quot;attribution&quot;: null,\n",
              "        &quot;detectRetina&quot;: false,\n",
              "        &quot;maxNativeZoom&quot;: 18,\n",
              "        &quot;maxZoom&quot;: 18,\n",
              "        &quot;minZoom&quot;: 0,\n",
              "        &quot;noWrap&quot;: false,\n",
              "        &quot;opacity&quot;: 1,\n",
              "        &quot;subdomains&quot;: &quot;abc&quot;,\n",
              "        &quot;tms&quot;: false\n",
              "}).addTo(map_9430b7f9fd895f40df8f8b73ea0206b0);\n",
              "    \n",
              "                var poly_line_a9986759ae1de977a085fb49cd10448e = L.polyline(\n",
              "                    [[34.0750186, 49.7055992], [34.0743918, 49.7050227]],\n",
              "                    {\n",
              "  &quot;bubblingMouseEvents&quot;: true,\n",
              "  &quot;color&quot;: &quot;#3388ff&quot;,\n",
              "  &quot;dashArray&quot;: null,\n",
              "  &quot;dashOffset&quot;: null,\n",
              "  &quot;fill&quot;: false,\n",
              "  &quot;fillColor&quot;: &quot;#3388ff&quot;,\n",
              "  &quot;fillOpacity&quot;: 0.2,\n",
              "  &quot;fillRule&quot;: &quot;evenodd&quot;,\n",
              "  &quot;lineCap&quot;: &quot;round&quot;,\n",
              "  &quot;lineJoin&quot;: &quot;round&quot;,\n",
              "  &quot;noClip&quot;: false,\n",
              "  &quot;opacity&quot;: 1.0,\n",
              "  &quot;smoothFactor&quot;: 1.0,\n",
              "  &quot;stroke&quot;: true,\n",
              "  &quot;weight&quot;: 3\n",
              "}\n",
              "                    )\n",
              "                    .addTo(map_9430b7f9fd895f40df8f8b73ea0206b0);\n",
              "            \n",
              "    \n",
              "                var poly_line_bf8c57788e34f5c77cdda6ea7356a5bc = L.polyline(\n",
              "                    [[34.0743918, 49.7050227], [34.0743356, 49.7049787], [34.0742704, 49.7049599], [34.0742038, 49.7049686], [34.0741435, 49.7050037], [34.0740964, 49.7050612]],\n",
              "                    {\n",
              "  &quot;bubblingMouseEvents&quot;: true,\n",
              "  &quot;color&quot;: &quot;#3388ff&quot;,\n",
              "  &quot;dashArray&quot;: null,\n",
              "  &quot;dashOffset&quot;: null,\n",
              "  &quot;fill&quot;: false,\n",
              "  &quot;fillColor&quot;: &quot;#3388ff&quot;,\n",
              "  &quot;fillOpacity&quot;: 0.2,\n",
              "  &quot;fillRule&quot;: &quot;evenodd&quot;,\n",
              "  &quot;lineCap&quot;: &quot;round&quot;,\n",
              "  &quot;lineJoin&quot;: &quot;round&quot;,\n",
              "  &quot;noClip&quot;: false,\n",
              "  &quot;opacity&quot;: 1.0,\n",
              "  &quot;smoothFactor&quot;: 1.0,\n",
              "  &quot;stroke&quot;: true,\n",
              "  &quot;weight&quot;: 3\n",
              "}\n",
              "                    )\n",
              "                    .addTo(map_9430b7f9fd895f40df8f8b73ea0206b0);\n",
              "            \n",
              "    \n",
              "                var poly_line_ecd8fefa2e3a2d289693341cd368531d = L.polyline(\n",
              "                    [[34.0740964, 49.7050612], [34.0739712, 49.7052845], [34.0739261, 49.7053563]],\n",
              "                    {\n",
              "  &quot;bubblingMouseEvents&quot;: true,\n",
              "  &quot;color&quot;: &quot;#3388ff&quot;,\n",
              "  &quot;dashArray&quot;: null,\n",
              "  &quot;dashOffset&quot;: null,\n",
              "  &quot;fill&quot;: false,\n",
              "  &quot;fillColor&quot;: &quot;#3388ff&quot;,\n",
              "  &quot;fillOpacity&quot;: 0.2,\n",
              "  &quot;fillRule&quot;: &quot;evenodd&quot;,\n",
              "  &quot;lineCap&quot;: &quot;round&quot;,\n",
              "  &quot;lineJoin&quot;: &quot;round&quot;,\n",
              "  &quot;noClip&quot;: false,\n",
              "  &quot;opacity&quot;: 1.0,\n",
              "  &quot;smoothFactor&quot;: 1.0,\n",
              "  &quot;stroke&quot;: true,\n",
              "  &quot;weight&quot;: 3\n",
              "}\n",
              "                    )\n",
              "                    .addTo(map_9430b7f9fd895f40df8f8b73ea0206b0);\n",
              "            \n",
              "    \n",
              "                var poly_line_9f7366e7475c48a3118e73f1a50ede43 = L.polyline(\n",
              "                    [[34.0739261, 49.7053563], [34.0736153, 49.7059653]],\n",
              "                    {\n",
              "  &quot;bubblingMouseEvents&quot;: true,\n",
              "  &quot;color&quot;: &quot;#3388ff&quot;,\n",
              "  &quot;dashArray&quot;: null,\n",
              "  &quot;dashOffset&quot;: null,\n",
              "  &quot;fill&quot;: false,\n",
              "  &quot;fillColor&quot;: &quot;#3388ff&quot;,\n",
              "  &quot;fillOpacity&quot;: 0.2,\n",
              "  &quot;fillRule&quot;: &quot;evenodd&quot;,\n",
              "  &quot;lineCap&quot;: &quot;round&quot;,\n",
              "  &quot;lineJoin&quot;: &quot;round&quot;,\n",
              "  &quot;noClip&quot;: false,\n",
              "  &quot;opacity&quot;: 1.0,\n",
              "  &quot;smoothFactor&quot;: 1.0,\n",
              "  &quot;stroke&quot;: true,\n",
              "  &quot;weight&quot;: 3\n",
              "}\n",
              "                    )\n",
              "                    .addTo(map_9430b7f9fd895f40df8f8b73ea0206b0);\n",
              "            \n",
              "    \n",
              "                \n",
              "\n",
              "                map_9430b7f9fd895f40df8f8b73ea0206b0.fitBounds(\n",
              "                    [[34.0736153, 49.7049599], [34.0750186, 49.7059653]],\n",
              "                    {}\n",
              "                    );\n",
              "            \n",
              "&lt;/script&gt;\" style=\"position:absolute;width:100%;height:100%;left:0;top:0;border:none !important;\" allowfullscreen webkitallowfullscreen mozallowfullscreen></iframe></div></div>"
            ]
          },
          "metadata": {},
          "execution_count": 2
        }
      ]
    },
    {
      "cell_type": "markdown",
      "source": [],
      "metadata": {
        "id": "b6-NzCOgeMOH"
      }
    },
    {
      "cell_type": "code",
      "source": [
        "import fiona\n",
        "from shapely.geometry import Polygon\n",
        "aoi = fiona.open('Region4.shp')\n",
        "aoiGeom = Polygon(aoi[0]['geometry']['coordinates'][0])\n",
        "aoiGeom"
      ],
      "metadata": {
        "id": "dRyQz7Ffcg7C"
      },
      "execution_count": null,
      "outputs": []
    },
    {
      "cell_type": "code",
      "source": [
        "ox.utils.config(default_crs=\"epsg:4326\")\n",
        "G =ox.graph_from_place('Arak, Markazi, Iran')"
      ],
      "metadata": {
        "id": "hkG77JDpDQYu"
      },
      "execution_count": null,
      "outputs": []
    },
    {
      "cell_type": "code",
      "source": [
        "route_map._repr_html_()"
      ],
      "metadata": {
        "id": "MRStPNiLAtxm"
      },
      "execution_count": null,
      "outputs": []
    },
    {
      "cell_type": "code",
      "source": [
        "import geopandas as gpd"
      ],
      "metadata": {
        "id": "B4xsbF5-Xf2j"
      },
      "execution_count": null,
      "outputs": []
    },
    {
      "cell_type": "code",
      "source": [
        "from google.colab import drive\n",
        "drive.mount('/content/drive')\n",
        "gdb_file= '/content/drive/My Drive/Isfahan/MyGeodatabase.gdb'\n",
        "Blocks = gpd.read_file('/content/drive/My Drive/Isfahan/Inputs/block.gpkg')\n",
        "Blocks.drop(['code',\t'zone',\t'Shape_Area',\t'Mahalat',\t'Shape_Leng',\t'Shape_Ar_1'], inplace=True, axis=1)\n",
        "Clinics = gpd.read_file(gdb_file,layer='Clinics')\n",
        "Hospitals = gpd.read_file(gdb_file,layer='Hospitals')\n",
        "Labs = gpd.read_file(gdb_file,layer='Labs')\n",
        "Pharmacy = gpd.read_file(gdb_file,layer='Pharmacy')\n",
        "'''\n",
        "Blocks=Blocks.loc[Blocks['Nodes']!=4349809358]\n",
        "Blocks.loc[Blocks['Nodes']!=5424086929]\n",
        "Blocks = Blocks.loc[Blocks[\"Nodes\"]!=6203075497]\n",
        "Blocks = Blocks.loc[Blocks[\"Nodes\"]!=4641738688]\n",
        "Blocks = Blocks.loc[Blocks[\"Nodes\"]!=4641738660]\n",
        "'''"
      ],
      "metadata": {
        "id": "llpVzOIbXfpn"
      },
      "execution_count": null,
      "outputs": []
    },
    {
      "cell_type": "code",
      "source": [
        "G = ox.graph_from_place('Isfahan, Iran', network_type='drive')\n",
        "G = ox.utils_graph.get_largest_component(G, strongly=True)\n",
        "G = ox.add_edge_speeds(G)\n",
        "G = ox.add_edge_travel_times(G)"
      ],
      "metadata": {
        "id": "h3GblFiCT3KV"
      },
      "execution_count": null,
      "outputs": []
    },
    {
      "cell_type": "code",
      "source": [
        "facilities = ['Hospital', 'Clinic', 'Lab', 'Pharmacy']"
      ],
      "metadata": {
        "id": "W51CprQ3j6GH"
      },
      "execution_count": null,
      "outputs": []
    },
    {
      "cell_type": "code",
      "source": [
        "'''\n",
        "# calculate route minimizing some weight\n",
        "orig = ox.get_nearest_node(G, (32.653870373905086, 51.83087956647711))\n",
        "dest = ox.get_nearest_node(G, (32.61659783406307, 51.77973887909546))\n",
        "route = nx.shortest_path(G, orig, dest, weight='travel_time')\n",
        "\n",
        "# OPTION 1: see the travel time for the whole route\n",
        "travel_time = nx.shortest_path_length(G, orig, dest, weight='travel_time')\n",
        "print(travel_time)\n",
        "'''"
      ],
      "metadata": {
        "id": "Jup72MOQ8Z3-"
      },
      "execution_count": null,
      "outputs": []
    },
    {
      "cell_type": "code",
      "source": [
        "Blocks.head(2)"
      ],
      "metadata": {
        "colab": {
          "base_uri": "https://localhost:8080/",
          "height": 112
        },
        "id": "YS83Ha4UgqeI",
        "outputId": "e3c4323b-437f-42bb-9929-19ac3a09f06a"
      },
      "execution_count": null,
      "outputs": [
        {
          "output_type": "execute_result",
          "data": {
            "text/plain": [
              "   OBJECTID   D2H   D2P   D2L   D2C  Population  \\\n",
              "0         1  8500  4418  7168  5913           0   \n",
              "1         2  8555  4473  7222  5968          51   \n",
              "\n",
              "                                            geometry  \n",
              "0  POLYGON ((51.78630 32.65793, 51.78624 32.65735...  \n",
              "1  POLYGON ((51.78757 32.65872, 51.78773 32.65863...  "
            ],
            "text/html": [
              "\n",
              "  <div id=\"df-3976ee58-1018-46c4-8acd-a12cafbcef5c\">\n",
              "    <div class=\"colab-df-container\">\n",
              "      <div>\n",
              "<style scoped>\n",
              "    .dataframe tbody tr th:only-of-type {\n",
              "        vertical-align: middle;\n",
              "    }\n",
              "\n",
              "    .dataframe tbody tr th {\n",
              "        vertical-align: top;\n",
              "    }\n",
              "\n",
              "    .dataframe thead th {\n",
              "        text-align: right;\n",
              "    }\n",
              "</style>\n",
              "<table border=\"1\" class=\"dataframe\">\n",
              "  <thead>\n",
              "    <tr style=\"text-align: right;\">\n",
              "      <th></th>\n",
              "      <th>OBJECTID</th>\n",
              "      <th>D2H</th>\n",
              "      <th>D2P</th>\n",
              "      <th>D2L</th>\n",
              "      <th>D2C</th>\n",
              "      <th>Population</th>\n",
              "      <th>geometry</th>\n",
              "    </tr>\n",
              "  </thead>\n",
              "  <tbody>\n",
              "    <tr>\n",
              "      <th>0</th>\n",
              "      <td>1</td>\n",
              "      <td>8500</td>\n",
              "      <td>4418</td>\n",
              "      <td>7168</td>\n",
              "      <td>5913</td>\n",
              "      <td>0</td>\n",
              "      <td>POLYGON ((51.78630 32.65793, 51.78624 32.65735...</td>\n",
              "    </tr>\n",
              "    <tr>\n",
              "      <th>1</th>\n",
              "      <td>2</td>\n",
              "      <td>8555</td>\n",
              "      <td>4473</td>\n",
              "      <td>7222</td>\n",
              "      <td>5968</td>\n",
              "      <td>51</td>\n",
              "      <td>POLYGON ((51.78757 32.65872, 51.78773 32.65863...</td>\n",
              "    </tr>\n",
              "  </tbody>\n",
              "</table>\n",
              "</div>\n",
              "      <button class=\"colab-df-convert\" onclick=\"convertToInteractive('df-3976ee58-1018-46c4-8acd-a12cafbcef5c')\"\n",
              "              title=\"Convert this dataframe to an interactive table.\"\n",
              "              style=\"display:none;\">\n",
              "        \n",
              "  <svg xmlns=\"http://www.w3.org/2000/svg\" height=\"24px\"viewBox=\"0 0 24 24\"\n",
              "       width=\"24px\">\n",
              "    <path d=\"M0 0h24v24H0V0z\" fill=\"none\"/>\n",
              "    <path d=\"M18.56 5.44l.94 2.06.94-2.06 2.06-.94-2.06-.94-.94-2.06-.94 2.06-2.06.94zm-11 1L8.5 8.5l.94-2.06 2.06-.94-2.06-.94L8.5 2.5l-.94 2.06-2.06.94zm10 10l.94 2.06.94-2.06 2.06-.94-2.06-.94-.94-2.06-.94 2.06-2.06.94z\"/><path d=\"M17.41 7.96l-1.37-1.37c-.4-.4-.92-.59-1.43-.59-.52 0-1.04.2-1.43.59L10.3 9.45l-7.72 7.72c-.78.78-.78 2.05 0 2.83L4 21.41c.39.39.9.59 1.41.59.51 0 1.02-.2 1.41-.59l7.78-7.78 2.81-2.81c.8-.78.8-2.07 0-2.86zM5.41 20L4 18.59l7.72-7.72 1.47 1.35L5.41 20z\"/>\n",
              "  </svg>\n",
              "      </button>\n",
              "      \n",
              "  <style>\n",
              "    .colab-df-container {\n",
              "      display:flex;\n",
              "      flex-wrap:wrap;\n",
              "      gap: 12px;\n",
              "    }\n",
              "\n",
              "    .colab-df-convert {\n",
              "      background-color: #E8F0FE;\n",
              "      border: none;\n",
              "      border-radius: 50%;\n",
              "      cursor: pointer;\n",
              "      display: none;\n",
              "      fill: #1967D2;\n",
              "      height: 32px;\n",
              "      padding: 0 0 0 0;\n",
              "      width: 32px;\n",
              "    }\n",
              "\n",
              "    .colab-df-convert:hover {\n",
              "      background-color: #E2EBFA;\n",
              "      box-shadow: 0px 1px 2px rgba(60, 64, 67, 0.3), 0px 1px 3px 1px rgba(60, 64, 67, 0.15);\n",
              "      fill: #174EA6;\n",
              "    }\n",
              "\n",
              "    [theme=dark] .colab-df-convert {\n",
              "      background-color: #3B4455;\n",
              "      fill: #D2E3FC;\n",
              "    }\n",
              "\n",
              "    [theme=dark] .colab-df-convert:hover {\n",
              "      background-color: #434B5C;\n",
              "      box-shadow: 0px 1px 3px 1px rgba(0, 0, 0, 0.15);\n",
              "      filter: drop-shadow(0px 1px 2px rgba(0, 0, 0, 0.3));\n",
              "      fill: #FFFFFF;\n",
              "    }\n",
              "  </style>\n",
              "\n",
              "      <script>\n",
              "        const buttonEl =\n",
              "          document.querySelector('#df-3976ee58-1018-46c4-8acd-a12cafbcef5c button.colab-df-convert');\n",
              "        buttonEl.style.display =\n",
              "          google.colab.kernel.accessAllowed ? 'block' : 'none';\n",
              "\n",
              "        async function convertToInteractive(key) {\n",
              "          const element = document.querySelector('#df-3976ee58-1018-46c4-8acd-a12cafbcef5c');\n",
              "          const dataTable =\n",
              "            await google.colab.kernel.invokeFunction('convertToInteractive',\n",
              "                                                     [key], {});\n",
              "          if (!dataTable) return;\n",
              "\n",
              "          const docLinkHtml = 'Like what you see? Visit the ' +\n",
              "            '<a target=\"_blank\" href=https://colab.research.google.com/notebooks/data_table.ipynb>data table notebook</a>'\n",
              "            + ' to learn more about interactive tables.';\n",
              "          element.innerHTML = '';\n",
              "          dataTable['output_type'] = 'display_data';\n",
              "          await google.colab.output.renderOutput(dataTable, element);\n",
              "          const docLink = document.createElement('div');\n",
              "          docLink.innerHTML = docLinkHtml;\n",
              "          element.appendChild(docLink);\n",
              "        }\n",
              "      </script>\n",
              "    </div>\n",
              "  </div>\n",
              "  "
            ]
          },
          "metadata": {},
          "execution_count": 12
        }
      ]
    },
    {
      "cell_type": "code",
      "source": [
        "Blocks[\"Nodes\"] = ox.distance.nearest_nodes(G, list(Blocks.centroid.x), list(Blocks.centroid.y))\n",
        "'''\n",
        "Nearest_Nodes_to_Clinics = ox.distance.nearest_nodes(G, list(Clinics.centroid.x), list(Clinics.centroid.y))\n",
        "Nearest_Nodes_to_Hospitals = ox.distance.nearest_nodes(G, list(Hospitals.centroid.x), list(Hospitals.centroid.y))\n",
        "Nearest_Nodes_to_Pharmacy = ox.distance.nearest_nodes(G, list(Pharmacy.centroid.x), list(Pharmacy.centroid.y))\n",
        "Nearest_Nodes_to_Labs = ox.distance.nearest_nodes(G, list(Labs.centroid.x), list(Labs.centroid.y))\n",
        "'''"
      ],
      "metadata": {
        "id": "r_SX-shfUzkt",
        "colab": {
          "base_uri": "https://localhost:8080/",
          "height": 212
        },
        "outputId": "af0f915f-f5b0-471d-8c54-a2f8d3370212"
      },
      "execution_count": null,
      "outputs": [
        {
          "output_type": "stream",
          "name": "stderr",
          "text": [
            "/usr/local/lib/python3.7/dist-packages/ipykernel_launcher.py:1: UserWarning: Geometry is in a geographic CRS. Results from 'centroid' are likely incorrect. Use 'GeoSeries.to_crs()' to re-project geometries to a projected CRS before this operation.\n",
            "\n",
            "  \"\"\"Entry point for launching an IPython kernel.\n",
            "/usr/local/lib/python3.7/dist-packages/ipykernel_launcher.py:1: UserWarning: Geometry is in a geographic CRS. Results from 'centroid' are likely incorrect. Use 'GeoSeries.to_crs()' to re-project geometries to a projected CRS before this operation.\n",
            "\n",
            "  \"\"\"Entry point for launching an IPython kernel.\n"
          ]
        },
        {
          "output_type": "execute_result",
          "data": {
            "text/plain": [
              "'\\nNearest_Nodes_to_Clinics = ox.distance.nearest_nodes(G, list(Clinics.centroid.x), list(Clinics.centroid.y))\\nNearest_Nodes_to_Hospitals = ox.distance.nearest_nodes(G, list(Hospitals.centroid.x), list(Hospitals.centroid.y))\\nNearest_Nodes_to_Pharmacy = ox.distance.nearest_nodes(G, list(Pharmacy.centroid.x), list(Pharmacy.centroid.y))\\nNearest_Nodes_to_Labs = ox.distance.nearest_nodes(G, list(Labs.centroid.x), list(Labs.centroid.y))\\n'"
            ],
            "application/vnd.google.colaboratory.intrinsic+json": {
              "type": "string"
            }
          },
          "metadata": {},
          "execution_count": 10
        }
      ]
    },
    {
      "cell_type": "code",
      "source": [
        "Blocks.head(2)"
      ],
      "metadata": {
        "colab": {
          "base_uri": "https://localhost:8080/",
          "height": 112
        },
        "id": "j8WdrD8oiHbf",
        "outputId": "41bfc0ff-465a-4f41-93d3-d90ed31fe04b"
      },
      "execution_count": null,
      "outputs": [
        {
          "output_type": "execute_result",
          "data": {
            "text/plain": [
              "   OBJECTID   D2H   D2P   D2L   D2C  Population  \\\n",
              "0         1  8500  4418  7168  5913           0   \n",
              "1         2  8555  4473  7222  5968          51   \n",
              "\n",
              "                                            geometry       Nodes  \n",
              "0  POLYGON ((51.78630 32.65793, 51.78624 32.65735...  4690289873  \n",
              "1  POLYGON ((51.78757 32.65872, 51.78773 32.65863...  6485817394  "
            ],
            "text/html": [
              "\n",
              "  <div id=\"df-290e2df2-fa06-47e6-8a0e-d265befb2adc\">\n",
              "    <div class=\"colab-df-container\">\n",
              "      <div>\n",
              "<style scoped>\n",
              "    .dataframe tbody tr th:only-of-type {\n",
              "        vertical-align: middle;\n",
              "    }\n",
              "\n",
              "    .dataframe tbody tr th {\n",
              "        vertical-align: top;\n",
              "    }\n",
              "\n",
              "    .dataframe thead th {\n",
              "        text-align: right;\n",
              "    }\n",
              "</style>\n",
              "<table border=\"1\" class=\"dataframe\">\n",
              "  <thead>\n",
              "    <tr style=\"text-align: right;\">\n",
              "      <th></th>\n",
              "      <th>OBJECTID</th>\n",
              "      <th>D2H</th>\n",
              "      <th>D2P</th>\n",
              "      <th>D2L</th>\n",
              "      <th>D2C</th>\n",
              "      <th>Population</th>\n",
              "      <th>geometry</th>\n",
              "      <th>Nodes</th>\n",
              "    </tr>\n",
              "  </thead>\n",
              "  <tbody>\n",
              "    <tr>\n",
              "      <th>0</th>\n",
              "      <td>1</td>\n",
              "      <td>8500</td>\n",
              "      <td>4418</td>\n",
              "      <td>7168</td>\n",
              "      <td>5913</td>\n",
              "      <td>0</td>\n",
              "      <td>POLYGON ((51.78630 32.65793, 51.78624 32.65735...</td>\n",
              "      <td>4690289873</td>\n",
              "    </tr>\n",
              "    <tr>\n",
              "      <th>1</th>\n",
              "      <td>2</td>\n",
              "      <td>8555</td>\n",
              "      <td>4473</td>\n",
              "      <td>7222</td>\n",
              "      <td>5968</td>\n",
              "      <td>51</td>\n",
              "      <td>POLYGON ((51.78757 32.65872, 51.78773 32.65863...</td>\n",
              "      <td>6485817394</td>\n",
              "    </tr>\n",
              "  </tbody>\n",
              "</table>\n",
              "</div>\n",
              "      <button class=\"colab-df-convert\" onclick=\"convertToInteractive('df-290e2df2-fa06-47e6-8a0e-d265befb2adc')\"\n",
              "              title=\"Convert this dataframe to an interactive table.\"\n",
              "              style=\"display:none;\">\n",
              "        \n",
              "  <svg xmlns=\"http://www.w3.org/2000/svg\" height=\"24px\"viewBox=\"0 0 24 24\"\n",
              "       width=\"24px\">\n",
              "    <path d=\"M0 0h24v24H0V0z\" fill=\"none\"/>\n",
              "    <path d=\"M18.56 5.44l.94 2.06.94-2.06 2.06-.94-2.06-.94-.94-2.06-.94 2.06-2.06.94zm-11 1L8.5 8.5l.94-2.06 2.06-.94-2.06-.94L8.5 2.5l-.94 2.06-2.06.94zm10 10l.94 2.06.94-2.06 2.06-.94-2.06-.94-.94-2.06-.94 2.06-2.06.94z\"/><path d=\"M17.41 7.96l-1.37-1.37c-.4-.4-.92-.59-1.43-.59-.52 0-1.04.2-1.43.59L10.3 9.45l-7.72 7.72c-.78.78-.78 2.05 0 2.83L4 21.41c.39.39.9.59 1.41.59.51 0 1.02-.2 1.41-.59l7.78-7.78 2.81-2.81c.8-.78.8-2.07 0-2.86zM5.41 20L4 18.59l7.72-7.72 1.47 1.35L5.41 20z\"/>\n",
              "  </svg>\n",
              "      </button>\n",
              "      \n",
              "  <style>\n",
              "    .colab-df-container {\n",
              "      display:flex;\n",
              "      flex-wrap:wrap;\n",
              "      gap: 12px;\n",
              "    }\n",
              "\n",
              "    .colab-df-convert {\n",
              "      background-color: #E8F0FE;\n",
              "      border: none;\n",
              "      border-radius: 50%;\n",
              "      cursor: pointer;\n",
              "      display: none;\n",
              "      fill: #1967D2;\n",
              "      height: 32px;\n",
              "      padding: 0 0 0 0;\n",
              "      width: 32px;\n",
              "    }\n",
              "\n",
              "    .colab-df-convert:hover {\n",
              "      background-color: #E2EBFA;\n",
              "      box-shadow: 0px 1px 2px rgba(60, 64, 67, 0.3), 0px 1px 3px 1px rgba(60, 64, 67, 0.15);\n",
              "      fill: #174EA6;\n",
              "    }\n",
              "\n",
              "    [theme=dark] .colab-df-convert {\n",
              "      background-color: #3B4455;\n",
              "      fill: #D2E3FC;\n",
              "    }\n",
              "\n",
              "    [theme=dark] .colab-df-convert:hover {\n",
              "      background-color: #434B5C;\n",
              "      box-shadow: 0px 1px 3px 1px rgba(0, 0, 0, 0.15);\n",
              "      filter: drop-shadow(0px 1px 2px rgba(0, 0, 0, 0.3));\n",
              "      fill: #FFFFFF;\n",
              "    }\n",
              "  </style>\n",
              "\n",
              "      <script>\n",
              "        const buttonEl =\n",
              "          document.querySelector('#df-290e2df2-fa06-47e6-8a0e-d265befb2adc button.colab-df-convert');\n",
              "        buttonEl.style.display =\n",
              "          google.colab.kernel.accessAllowed ? 'block' : 'none';\n",
              "\n",
              "        async function convertToInteractive(key) {\n",
              "          const element = document.querySelector('#df-290e2df2-fa06-47e6-8a0e-d265befb2adc');\n",
              "          const dataTable =\n",
              "            await google.colab.kernel.invokeFunction('convertToInteractive',\n",
              "                                                     [key], {});\n",
              "          if (!dataTable) return;\n",
              "\n",
              "          const docLinkHtml = 'Like what you see? Visit the ' +\n",
              "            '<a target=\"_blank\" href=https://colab.research.google.com/notebooks/data_table.ipynb>data table notebook</a>'\n",
              "            + ' to learn more about interactive tables.';\n",
              "          element.innerHTML = '';\n",
              "          dataTable['output_type'] = 'display_data';\n",
              "          await google.colab.output.renderOutput(dataTable, element);\n",
              "          const docLink = document.createElement('div');\n",
              "          docLink.innerHTML = docLinkHtml;\n",
              "          element.appendChild(docLink);\n",
              "        }\n",
              "      </script>\n",
              "    </div>\n",
              "  </div>\n",
              "  "
            ]
          },
          "metadata": {},
          "execution_count": 21
        }
      ]
    },
    {
      "cell_type": "code",
      "source": [
        "'''\n",
        "Block_to_Clinic = list()\n",
        "for block in Nearest_Nodes_to_Blocks[0:3]:\n",
        "  distances = list()\n",
        "  empty = list()\n",
        "  for clinic in Nearest_Nodes_to_Clinics:\n",
        "    distances.append(int(nx.shortest_path_length(G, block, clinic, weight='travel_time')))\n",
        "  empty.append(min(distances))\n",
        "  empty.append(max(distances))\n",
        "  empty.append(sum(distances))\n",
        "  empty.append(mean(distances))\n",
        "  Block_to_Clinic.append(empty)\n",
        "'''"
      ],
      "metadata": {
        "id": "ExG-48DcdRSe"
      },
      "execution_count": null,
      "outputs": []
    },
    {
      "cell_type": "code",
      "source": [
        "from shapely.ops import nearest_points\n",
        "def get_nearest_values(row, other_gdf, point_column='geometry', value_column=\"geometry\"):\n",
        "    other_points = other_gdf[\"geometry\"].unary_union\n",
        "    nearest_geoms = nearest_points(row[point_column], other_points)\n",
        "    nearest_data = other_gdf.loc[other_gdf[\"geometry\"] == nearest_geoms[1]]\n",
        "    nearest_value = nearest_data[value_column].values[0]\n",
        "    return nearest_value\n"
      ],
      "metadata": {
        "id": "iK9lcn31gy2e"
      },
      "execution_count": null,
      "outputs": []
    },
    {
      "cell_type": "code",
      "source": [
        "Blocks['centroid'] = Blocks.centroid\n",
        "Blocks['nearest_Hospital'] = Blocks.apply(get_nearest_values, other_gdf = Hospitals, point_column=\"centroid\", value_column=\"geometry\", axis=1)\n",
        "Blocks['nearest_Clinic'] = Blocks.apply(get_nearest_values, other_gdf = Clinics, point_column=\"centroid\", value_column=\"geometry\", axis=1)\n",
        "Blocks['nearest_Lab'] = Blocks.apply(get_nearest_values, other_gdf = Labs, point_column=\"centroid\", value_column=\"geometry\", axis=1)\n",
        "Blocks['nearest_Pharmacy'] = Blocks.apply(get_nearest_values, other_gdf = Pharmacy, point_column=\"centroid\", value_column=\"geometry\", axis=1)"
      ],
      "metadata": {
        "id": "QPiJIjuDxcFs"
      },
      "execution_count": null,
      "outputs": []
    },
    {
      "cell_type": "code",
      "source": [
        "Blocks.head(2)"
      ],
      "metadata": {
        "colab": {
          "base_uri": "https://localhost:8080/",
          "height": 315
        },
        "id": "qDXp6KRUx9OK",
        "outputId": "6f94a5c0-b918-4d86-f8be-b7de28c57539"
      },
      "execution_count": null,
      "outputs": [
        {
          "output_type": "execute_result",
          "data": {
            "text/plain": [
              "   OBJECTID   D2H   D2P   D2L   D2C  Population  \\\n",
              "0         1  8500  4418  7168  5913           0   \n",
              "1         2  8555  4473  7222  5968          51   \n",
              "\n",
              "                                            geometry       Nodes  \\\n",
              "0  POLYGON ((51.78630 32.65793, 51.78624 32.65735...  4690289873   \n",
              "1  POLYGON ((51.78757 32.65872, 51.78773 32.65863...  6485817394   \n",
              "\n",
              "                    centroid                              nearest_Hospital  \\\n",
              "0  POINT (51.78599 32.65765)  POINT (51.76484824800008 32.627346224000064)   \n",
              "1  POINT (51.78776 32.65842)  POINT (51.76484824800008 32.627346224000064)   \n",
              "\n",
              "                                nearest_Clinic  \\\n",
              "0  POINT (51.75418755000004 32.66955943000005)   \n",
              "1  POINT (51.75418755000004 32.66955943000005)   \n",
              "\n",
              "                                   nearest_Lab  \\\n",
              "0  POINT (51.74744296000006 32.65561836000006)   \n",
              "1  POINT (51.74744296000006 32.65561836000006)   \n",
              "\n",
              "                              nearest_Pharmacy  Nearest_Hospital_Node  \\\n",
              "0  POINT (51.77042595000006 32.63768779000003)             4715128215   \n",
              "1  POINT (51.77042595000006 32.63768779000003)             4715128215   \n",
              "\n",
              "   Nearest_Clinic_Node  Nearest_Lab_Node  Nearest_Pharmacy_Node  \n",
              "0           4807676458        4681660049             4867510789  \n",
              "1           4807676458        4681660049             4867510789  "
            ],
            "text/html": [
              "\n",
              "  <div id=\"df-8da7f922-3778-4612-9be7-9abed618d9f5\">\n",
              "    <div class=\"colab-df-container\">\n",
              "      <div>\n",
              "<style scoped>\n",
              "    .dataframe tbody tr th:only-of-type {\n",
              "        vertical-align: middle;\n",
              "    }\n",
              "\n",
              "    .dataframe tbody tr th {\n",
              "        vertical-align: top;\n",
              "    }\n",
              "\n",
              "    .dataframe thead th {\n",
              "        text-align: right;\n",
              "    }\n",
              "</style>\n",
              "<table border=\"1\" class=\"dataframe\">\n",
              "  <thead>\n",
              "    <tr style=\"text-align: right;\">\n",
              "      <th></th>\n",
              "      <th>OBJECTID</th>\n",
              "      <th>D2H</th>\n",
              "      <th>D2P</th>\n",
              "      <th>D2L</th>\n",
              "      <th>D2C</th>\n",
              "      <th>Population</th>\n",
              "      <th>geometry</th>\n",
              "      <th>Nodes</th>\n",
              "      <th>centroid</th>\n",
              "      <th>nearest_Hospital</th>\n",
              "      <th>nearest_Clinic</th>\n",
              "      <th>nearest_Lab</th>\n",
              "      <th>nearest_Pharmacy</th>\n",
              "      <th>Nearest_Hospital_Node</th>\n",
              "      <th>Nearest_Clinic_Node</th>\n",
              "      <th>Nearest_Lab_Node</th>\n",
              "      <th>Nearest_Pharmacy_Node</th>\n",
              "    </tr>\n",
              "  </thead>\n",
              "  <tbody>\n",
              "    <tr>\n",
              "      <th>0</th>\n",
              "      <td>1</td>\n",
              "      <td>8500</td>\n",
              "      <td>4418</td>\n",
              "      <td>7168</td>\n",
              "      <td>5913</td>\n",
              "      <td>0</td>\n",
              "      <td>POLYGON ((51.78630 32.65793, 51.78624 32.65735...</td>\n",
              "      <td>4690289873</td>\n",
              "      <td>POINT (51.78599 32.65765)</td>\n",
              "      <td>POINT (51.76484824800008 32.627346224000064)</td>\n",
              "      <td>POINT (51.75418755000004 32.66955943000005)</td>\n",
              "      <td>POINT (51.74744296000006 32.65561836000006)</td>\n",
              "      <td>POINT (51.77042595000006 32.63768779000003)</td>\n",
              "      <td>4715128215</td>\n",
              "      <td>4807676458</td>\n",
              "      <td>4681660049</td>\n",
              "      <td>4867510789</td>\n",
              "    </tr>\n",
              "    <tr>\n",
              "      <th>1</th>\n",
              "      <td>2</td>\n",
              "      <td>8555</td>\n",
              "      <td>4473</td>\n",
              "      <td>7222</td>\n",
              "      <td>5968</td>\n",
              "      <td>51</td>\n",
              "      <td>POLYGON ((51.78757 32.65872, 51.78773 32.65863...</td>\n",
              "      <td>6485817394</td>\n",
              "      <td>POINT (51.78776 32.65842)</td>\n",
              "      <td>POINT (51.76484824800008 32.627346224000064)</td>\n",
              "      <td>POINT (51.75418755000004 32.66955943000005)</td>\n",
              "      <td>POINT (51.74744296000006 32.65561836000006)</td>\n",
              "      <td>POINT (51.77042595000006 32.63768779000003)</td>\n",
              "      <td>4715128215</td>\n",
              "      <td>4807676458</td>\n",
              "      <td>4681660049</td>\n",
              "      <td>4867510789</td>\n",
              "    </tr>\n",
              "  </tbody>\n",
              "</table>\n",
              "</div>\n",
              "      <button class=\"colab-df-convert\" onclick=\"convertToInteractive('df-8da7f922-3778-4612-9be7-9abed618d9f5')\"\n",
              "              title=\"Convert this dataframe to an interactive table.\"\n",
              "              style=\"display:none;\">\n",
              "        \n",
              "  <svg xmlns=\"http://www.w3.org/2000/svg\" height=\"24px\"viewBox=\"0 0 24 24\"\n",
              "       width=\"24px\">\n",
              "    <path d=\"M0 0h24v24H0V0z\" fill=\"none\"/>\n",
              "    <path d=\"M18.56 5.44l.94 2.06.94-2.06 2.06-.94-2.06-.94-.94-2.06-.94 2.06-2.06.94zm-11 1L8.5 8.5l.94-2.06 2.06-.94-2.06-.94L8.5 2.5l-.94 2.06-2.06.94zm10 10l.94 2.06.94-2.06 2.06-.94-2.06-.94-.94-2.06-.94 2.06-2.06.94z\"/><path d=\"M17.41 7.96l-1.37-1.37c-.4-.4-.92-.59-1.43-.59-.52 0-1.04.2-1.43.59L10.3 9.45l-7.72 7.72c-.78.78-.78 2.05 0 2.83L4 21.41c.39.39.9.59 1.41.59.51 0 1.02-.2 1.41-.59l7.78-7.78 2.81-2.81c.8-.78.8-2.07 0-2.86zM5.41 20L4 18.59l7.72-7.72 1.47 1.35L5.41 20z\"/>\n",
              "  </svg>\n",
              "      </button>\n",
              "      \n",
              "  <style>\n",
              "    .colab-df-container {\n",
              "      display:flex;\n",
              "      flex-wrap:wrap;\n",
              "      gap: 12px;\n",
              "    }\n",
              "\n",
              "    .colab-df-convert {\n",
              "      background-color: #E8F0FE;\n",
              "      border: none;\n",
              "      border-radius: 50%;\n",
              "      cursor: pointer;\n",
              "      display: none;\n",
              "      fill: #1967D2;\n",
              "      height: 32px;\n",
              "      padding: 0 0 0 0;\n",
              "      width: 32px;\n",
              "    }\n",
              "\n",
              "    .colab-df-convert:hover {\n",
              "      background-color: #E2EBFA;\n",
              "      box-shadow: 0px 1px 2px rgba(60, 64, 67, 0.3), 0px 1px 3px 1px rgba(60, 64, 67, 0.15);\n",
              "      fill: #174EA6;\n",
              "    }\n",
              "\n",
              "    [theme=dark] .colab-df-convert {\n",
              "      background-color: #3B4455;\n",
              "      fill: #D2E3FC;\n",
              "    }\n",
              "\n",
              "    [theme=dark] .colab-df-convert:hover {\n",
              "      background-color: #434B5C;\n",
              "      box-shadow: 0px 1px 3px 1px rgba(0, 0, 0, 0.15);\n",
              "      filter: drop-shadow(0px 1px 2px rgba(0, 0, 0, 0.3));\n",
              "      fill: #FFFFFF;\n",
              "    }\n",
              "  </style>\n",
              "\n",
              "      <script>\n",
              "        const buttonEl =\n",
              "          document.querySelector('#df-8da7f922-3778-4612-9be7-9abed618d9f5 button.colab-df-convert');\n",
              "        buttonEl.style.display =\n",
              "          google.colab.kernel.accessAllowed ? 'block' : 'none';\n",
              "\n",
              "        async function convertToInteractive(key) {\n",
              "          const element = document.querySelector('#df-8da7f922-3778-4612-9be7-9abed618d9f5');\n",
              "          const dataTable =\n",
              "            await google.colab.kernel.invokeFunction('convertToInteractive',\n",
              "                                                     [key], {});\n",
              "          if (!dataTable) return;\n",
              "\n",
              "          const docLinkHtml = 'Like what you see? Visit the ' +\n",
              "            '<a target=\"_blank\" href=https://colab.research.google.com/notebooks/data_table.ipynb>data table notebook</a>'\n",
              "            + ' to learn more about interactive tables.';\n",
              "          element.innerHTML = '';\n",
              "          dataTable['output_type'] = 'display_data';\n",
              "          await google.colab.output.renderOutput(dataTable, element);\n",
              "          const docLink = document.createElement('div');\n",
              "          docLink.innerHTML = docLinkHtml;\n",
              "          element.appendChild(docLink);\n",
              "        }\n",
              "      </script>\n",
              "    </div>\n",
              "  </div>\n",
              "  "
            ]
          },
          "metadata": {},
          "execution_count": 66
        }
      ]
    },
    {
      "cell_type": "code",
      "source": [
        "Blocks[\"Nearest_Hospital_Node\"] = ox.distance.nearest_nodes(G, list(Blocks.nearest_Hospital.apply(lambda p: p.x)), list(Blocks.nearest_Hospital.apply(lambda p: p.y)))\n",
        "Blocks[\"Nearest_Clinic_Node\"] = ox.distance.nearest_nodes(G, list(Blocks.nearest_Clinic.apply(lambda p: p.x)), list(Blocks.nearest_Clinic.apply(lambda p: p.y)))\n",
        "Blocks[\"Nearest_Lab_Node\"] = ox.distance.nearest_nodes(G, list(Blocks.nearest_Lab.apply(lambda p: p.x)), list(Blocks.nearest_Lab.apply(lambda p: p.y)))\n",
        "Blocks[\"Nearest_Pharmacy_Node\"] = ox.distance.nearest_nodes(G, list(Blocks.nearest_Pharmacy.apply(lambda p: p.x)), list(Blocks.nearest_Pharmacy.apply(lambda p: p.y)))"
      ],
      "metadata": {
        "id": "JPTC8gfV6I19"
      },
      "execution_count": null,
      "outputs": []
    },
    {
      "cell_type": "code",
      "source": [
        "facilities"
      ],
      "metadata": {
        "id": "Bg9cEvA6c-qq",
        "colab": {
          "base_uri": "https://localhost:8080/"
        },
        "outputId": "6dd922b0-d187-4923-b149-dad2ad01c540"
      },
      "execution_count": null,
      "outputs": [
        {
          "output_type": "execute_result",
          "data": {
            "text/plain": [
              "['Hospital', 'Clinic', 'Lab', 'Pharmacy']"
            ]
          },
          "metadata": {},
          "execution_count": 22
        }
      ]
    },
    {
      "cell_type": "code",
      "source": [
        "for service in facilities:\n",
        "  times = list()\n",
        "  for block, facility in zip(Blocks[\"Nodes\"],Blocks[\"Nearest_\"+str(service)+\"_Node\"]):\n",
        "    times.append(nx.shortest_path_length(G, block, facility, weight='travel_time'))\n",
        "  Blocks[\"T2\"+str(service[0])]=times\n",
        "  print(service)\n"
      ],
      "metadata": {
        "id": "GhUfEHWC6SX9"
      },
      "execution_count": null,
      "outputs": []
    },
    {
      "cell_type": "code",
      "source": [
        "Blocks.head(2)"
      ],
      "metadata": {
        "colab": {
          "base_uri": "https://localhost:8080/",
          "height": 344
        },
        "id": "oDPhs7-yCFn0",
        "outputId": "4aef2397-c574-4ad7-cc1e-0426e3707bb4"
      },
      "execution_count": null,
      "outputs": [
        {
          "output_type": "execute_result",
          "data": {
            "text/plain": [
              "   OBJECTID   D2H   D2P   D2L   D2C  Population  \\\n",
              "0         1  8500  4418  7168  5913           0   \n",
              "1         2  8555  4473  7222  5968          51   \n",
              "\n",
              "                                            geometry       Nodes  \\\n",
              "0  POLYGON ((51.78630 32.65793, 51.78624 32.65735...  4690289873   \n",
              "1  POLYGON ((51.78757 32.65872, 51.78773 32.65863...  6485817394   \n",
              "\n",
              "                    centroid                              nearest_Hospital  \\\n",
              "0  POINT (51.78599 32.65765)  POINT (51.76484824800008 32.627346224000064)   \n",
              "1  POINT (51.78776 32.65842)  POINT (51.76484824800008 32.627346224000064)   \n",
              "\n",
              "   ...                                  nearest_Lab  \\\n",
              "0  ...  POINT (51.74744296000006 32.65561836000006)   \n",
              "1  ...  POINT (51.74744296000006 32.65561836000006)   \n",
              "\n",
              "                              nearest_Pharmacy Nearest_Hospital_Node  \\\n",
              "0  POINT (51.77042595000006 32.63768779000003)            4715128215   \n",
              "1  POINT (51.77042595000006 32.63768779000003)            4715128215   \n",
              "\n",
              "   Nearest_Clinic_Node  Nearest_Lab_Node  Nearest_Pharmacy_Node    T2H    T2C  \\\n",
              "0           4807676458        4681660049             4867510789  440.1  429.1   \n",
              "1           4807676458        4681660049             4867510789  451.1  440.1   \n",
              "\n",
              "     T2L    T2P  \n",
              "0  342.2  352.6  \n",
              "1  353.2  363.6  \n",
              "\n",
              "[2 rows x 21 columns]"
            ],
            "text/html": [
              "\n",
              "  <div id=\"df-e02ec61d-0a2e-42d8-a870-126d0e86dbd7\">\n",
              "    <div class=\"colab-df-container\">\n",
              "      <div>\n",
              "<style scoped>\n",
              "    .dataframe tbody tr th:only-of-type {\n",
              "        vertical-align: middle;\n",
              "    }\n",
              "\n",
              "    .dataframe tbody tr th {\n",
              "        vertical-align: top;\n",
              "    }\n",
              "\n",
              "    .dataframe thead th {\n",
              "        text-align: right;\n",
              "    }\n",
              "</style>\n",
              "<table border=\"1\" class=\"dataframe\">\n",
              "  <thead>\n",
              "    <tr style=\"text-align: right;\">\n",
              "      <th></th>\n",
              "      <th>OBJECTID</th>\n",
              "      <th>D2H</th>\n",
              "      <th>D2P</th>\n",
              "      <th>D2L</th>\n",
              "      <th>D2C</th>\n",
              "      <th>Population</th>\n",
              "      <th>geometry</th>\n",
              "      <th>Nodes</th>\n",
              "      <th>centroid</th>\n",
              "      <th>nearest_Hospital</th>\n",
              "      <th>...</th>\n",
              "      <th>nearest_Lab</th>\n",
              "      <th>nearest_Pharmacy</th>\n",
              "      <th>Nearest_Hospital_Node</th>\n",
              "      <th>Nearest_Clinic_Node</th>\n",
              "      <th>Nearest_Lab_Node</th>\n",
              "      <th>Nearest_Pharmacy_Node</th>\n",
              "      <th>T2H</th>\n",
              "      <th>T2C</th>\n",
              "      <th>T2L</th>\n",
              "      <th>T2P</th>\n",
              "    </tr>\n",
              "  </thead>\n",
              "  <tbody>\n",
              "    <tr>\n",
              "      <th>0</th>\n",
              "      <td>1</td>\n",
              "      <td>8500</td>\n",
              "      <td>4418</td>\n",
              "      <td>7168</td>\n",
              "      <td>5913</td>\n",
              "      <td>0</td>\n",
              "      <td>POLYGON ((51.78630 32.65793, 51.78624 32.65735...</td>\n",
              "      <td>4690289873</td>\n",
              "      <td>POINT (51.78599 32.65765)</td>\n",
              "      <td>POINT (51.76484824800008 32.627346224000064)</td>\n",
              "      <td>...</td>\n",
              "      <td>POINT (51.74744296000006 32.65561836000006)</td>\n",
              "      <td>POINT (51.77042595000006 32.63768779000003)</td>\n",
              "      <td>4715128215</td>\n",
              "      <td>4807676458</td>\n",
              "      <td>4681660049</td>\n",
              "      <td>4867510789</td>\n",
              "      <td>440.1</td>\n",
              "      <td>429.1</td>\n",
              "      <td>342.2</td>\n",
              "      <td>352.6</td>\n",
              "    </tr>\n",
              "    <tr>\n",
              "      <th>1</th>\n",
              "      <td>2</td>\n",
              "      <td>8555</td>\n",
              "      <td>4473</td>\n",
              "      <td>7222</td>\n",
              "      <td>5968</td>\n",
              "      <td>51</td>\n",
              "      <td>POLYGON ((51.78757 32.65872, 51.78773 32.65863...</td>\n",
              "      <td>6485817394</td>\n",
              "      <td>POINT (51.78776 32.65842)</td>\n",
              "      <td>POINT (51.76484824800008 32.627346224000064)</td>\n",
              "      <td>...</td>\n",
              "      <td>POINT (51.74744296000006 32.65561836000006)</td>\n",
              "      <td>POINT (51.77042595000006 32.63768779000003)</td>\n",
              "      <td>4715128215</td>\n",
              "      <td>4807676458</td>\n",
              "      <td>4681660049</td>\n",
              "      <td>4867510789</td>\n",
              "      <td>451.1</td>\n",
              "      <td>440.1</td>\n",
              "      <td>353.2</td>\n",
              "      <td>363.6</td>\n",
              "    </tr>\n",
              "  </tbody>\n",
              "</table>\n",
              "<p>2 rows × 21 columns</p>\n",
              "</div>\n",
              "      <button class=\"colab-df-convert\" onclick=\"convertToInteractive('df-e02ec61d-0a2e-42d8-a870-126d0e86dbd7')\"\n",
              "              title=\"Convert this dataframe to an interactive table.\"\n",
              "              style=\"display:none;\">\n",
              "        \n",
              "  <svg xmlns=\"http://www.w3.org/2000/svg\" height=\"24px\"viewBox=\"0 0 24 24\"\n",
              "       width=\"24px\">\n",
              "    <path d=\"M0 0h24v24H0V0z\" fill=\"none\"/>\n",
              "    <path d=\"M18.56 5.44l.94 2.06.94-2.06 2.06-.94-2.06-.94-.94-2.06-.94 2.06-2.06.94zm-11 1L8.5 8.5l.94-2.06 2.06-.94-2.06-.94L8.5 2.5l-.94 2.06-2.06.94zm10 10l.94 2.06.94-2.06 2.06-.94-2.06-.94-.94-2.06-.94 2.06-2.06.94z\"/><path d=\"M17.41 7.96l-1.37-1.37c-.4-.4-.92-.59-1.43-.59-.52 0-1.04.2-1.43.59L10.3 9.45l-7.72 7.72c-.78.78-.78 2.05 0 2.83L4 21.41c.39.39.9.59 1.41.59.51 0 1.02-.2 1.41-.59l7.78-7.78 2.81-2.81c.8-.78.8-2.07 0-2.86zM5.41 20L4 18.59l7.72-7.72 1.47 1.35L5.41 20z\"/>\n",
              "  </svg>\n",
              "      </button>\n",
              "      \n",
              "  <style>\n",
              "    .colab-df-container {\n",
              "      display:flex;\n",
              "      flex-wrap:wrap;\n",
              "      gap: 12px;\n",
              "    }\n",
              "\n",
              "    .colab-df-convert {\n",
              "      background-color: #E8F0FE;\n",
              "      border: none;\n",
              "      border-radius: 50%;\n",
              "      cursor: pointer;\n",
              "      display: none;\n",
              "      fill: #1967D2;\n",
              "      height: 32px;\n",
              "      padding: 0 0 0 0;\n",
              "      width: 32px;\n",
              "    }\n",
              "\n",
              "    .colab-df-convert:hover {\n",
              "      background-color: #E2EBFA;\n",
              "      box-shadow: 0px 1px 2px rgba(60, 64, 67, 0.3), 0px 1px 3px 1px rgba(60, 64, 67, 0.15);\n",
              "      fill: #174EA6;\n",
              "    }\n",
              "\n",
              "    [theme=dark] .colab-df-convert {\n",
              "      background-color: #3B4455;\n",
              "      fill: #D2E3FC;\n",
              "    }\n",
              "\n",
              "    [theme=dark] .colab-df-convert:hover {\n",
              "      background-color: #434B5C;\n",
              "      box-shadow: 0px 1px 3px 1px rgba(0, 0, 0, 0.15);\n",
              "      filter: drop-shadow(0px 1px 2px rgba(0, 0, 0, 0.3));\n",
              "      fill: #FFFFFF;\n",
              "    }\n",
              "  </style>\n",
              "\n",
              "      <script>\n",
              "        const buttonEl =\n",
              "          document.querySelector('#df-e02ec61d-0a2e-42d8-a870-126d0e86dbd7 button.colab-df-convert');\n",
              "        buttonEl.style.display =\n",
              "          google.colab.kernel.accessAllowed ? 'block' : 'none';\n",
              "\n",
              "        async function convertToInteractive(key) {\n",
              "          const element = document.querySelector('#df-e02ec61d-0a2e-42d8-a870-126d0e86dbd7');\n",
              "          const dataTable =\n",
              "            await google.colab.kernel.invokeFunction('convertToInteractive',\n",
              "                                                     [key], {});\n",
              "          if (!dataTable) return;\n",
              "\n",
              "          const docLinkHtml = 'Like what you see? Visit the ' +\n",
              "            '<a target=\"_blank\" href=https://colab.research.google.com/notebooks/data_table.ipynb>data table notebook</a>'\n",
              "            + ' to learn more about interactive tables.';\n",
              "          element.innerHTML = '';\n",
              "          dataTable['output_type'] = 'display_data';\n",
              "          await google.colab.output.renderOutput(dataTable, element);\n",
              "          const docLink = document.createElement('div');\n",
              "          docLink.innerHTML = docLinkHtml;\n",
              "          element.appendChild(docLink);\n",
              "        }\n",
              "      </script>\n",
              "    </div>\n",
              "  </div>\n",
              "  "
            ]
          },
          "metadata": {},
          "execution_count": 27
        }
      ]
    },
    {
      "cell_type": "code",
      "source": [
        "import seaborn\n",
        "import matplotlib.pyplot as plt"
      ],
      "metadata": {
        "id": "l4raO8m-C6I9"
      },
      "execution_count": null,
      "outputs": []
    },
    {
      "cell_type": "code",
      "source": [
        "!python -m pip uninstall matplotlib\n",
        "!pip install matplotlib==3.1.3"
      ],
      "metadata": {
        "id": "Z8V8mK67DgDM"
      },
      "execution_count": null,
      "outputs": []
    },
    {
      "cell_type": "code",
      "source": [
        "cluster_variables=['D2H', 'D2L', 'D2C', 'D2P', 'T2H', 'T2L', 'T2C', 'T2P']\n",
        "corr = Blocks[cluster_variables].corr()\n",
        "seaborn.heatmap(corr, cmap=\"RdPu\",annot=True)\n"
      ],
      "metadata": {
        "colab": {
          "base_uri": "https://localhost:8080/",
          "height": 286
        },
        "id": "Letx3_DWCNMO",
        "outputId": "979dc3f3-42e5-4a6c-ebb6-df521975dabf"
      },
      "execution_count": null,
      "outputs": [
        {
          "output_type": "execute_result",
          "data": {
            "text/plain": [
              "<matplotlib.axes._subplots.AxesSubplot at 0x7f22d5522b50>"
            ]
          },
          "metadata": {},
          "execution_count": 41
        },
        {
          "output_type": "display_data",
          "data": {
            "text/plain": [
              "<Figure size 432x288 with 2 Axes>"
            ],
            "image/png": "[encoded data removed]"
          },
          "metadata": {
            "needs_background": "light"
          }
        }
      ]
    },
    {
      "cell_type": "code",
      "source": [
        "Blocks.head(2)"
      ],
      "metadata": {
        "colab": {
          "base_uri": "https://localhost:8080/",
          "height": 226
        },
        "id": "U1r6LxoOeRBU",
        "outputId": "d41ae4f2-d4af-4b31-b1de-d291be530a2e"
      },
      "execution_count": null,
      "outputs": [
        {
          "output_type": "execute_result",
          "data": {
            "text/plain": [
              "   OBJECTID   D2H   D2P   D2L   D2C  Population  \\\n",
              "0         1  8500  4418  7168  5913           0   \n",
              "1         2  8555  4473  7222  5968          51   \n",
              "\n",
              "                                            geometry    T2H    T2C    T2L  \\\n",
              "0  POLYGON ((51.78630 32.65793, 51.78624 32.65735...  440.1  429.1  342.2   \n",
              "1  POLYGON ((51.78757 32.65872, 51.78773 32.65863...  451.1  440.1  353.2   \n",
              "\n",
              "     T2P         Area  PDensity  \n",
              "0  352.6  3485.146757   0.00000  \n",
              "1  363.6  1863.366635   0.02737  "
            ],
            "text/html": [
              "\n",
              "  <div id=\"df-9d698a45-9bc0-42d3-b989-664da591f0e9\">\n",
              "    <div class=\"colab-df-container\">\n",
              "      <div>\n",
              "<style scoped>\n",
              "    .dataframe tbody tr th:only-of-type {\n",
              "        vertical-align: middle;\n",
              "    }\n",
              "\n",
              "    .dataframe tbody tr th {\n",
              "        vertical-align: top;\n",
              "    }\n",
              "\n",
              "    .dataframe thead th {\n",
              "        text-align: right;\n",
              "    }\n",
              "</style>\n",
              "<table border=\"1\" class=\"dataframe\">\n",
              "  <thead>\n",
              "    <tr style=\"text-align: right;\">\n",
              "      <th></th>\n",
              "      <th>OBJECTID</th>\n",
              "      <th>D2H</th>\n",
              "      <th>D2P</th>\n",
              "      <th>D2L</th>\n",
              "      <th>D2C</th>\n",
              "      <th>Population</th>\n",
              "      <th>geometry</th>\n",
              "      <th>T2H</th>\n",
              "      <th>T2C</th>\n",
              "      <th>T2L</th>\n",
              "      <th>T2P</th>\n",
              "      <th>Area</th>\n",
              "      <th>PDensity</th>\n",
              "    </tr>\n",
              "  </thead>\n",
              "  <tbody>\n",
              "    <tr>\n",
              "      <th>0</th>\n",
              "      <td>1</td>\n",
              "      <td>8500</td>\n",
              "      <td>4418</td>\n",
              "      <td>7168</td>\n",
              "      <td>5913</td>\n",
              "      <td>0</td>\n",
              "      <td>POLYGON ((51.78630 32.65793, 51.78624 32.65735...</td>\n",
              "      <td>440.1</td>\n",
              "      <td>429.1</td>\n",
              "      <td>342.2</td>\n",
              "      <td>352.6</td>\n",
              "      <td>3485.146757</td>\n",
              "      <td>0.00000</td>\n",
              "    </tr>\n",
              "    <tr>\n",
              "      <th>1</th>\n",
              "      <td>2</td>\n",
              "      <td>8555</td>\n",
              "      <td>4473</td>\n",
              "      <td>7222</td>\n",
              "      <td>5968</td>\n",
              "      <td>51</td>\n",
              "      <td>POLYGON ((51.78757 32.65872, 51.78773 32.65863...</td>\n",
              "      <td>451.1</td>\n",
              "      <td>440.1</td>\n",
              "      <td>353.2</td>\n",
              "      <td>363.6</td>\n",
              "      <td>1863.366635</td>\n",
              "      <td>0.02737</td>\n",
              "    </tr>\n",
              "  </tbody>\n",
              "</table>\n",
              "</div>\n",
              "      <button class=\"colab-df-convert\" onclick=\"convertToInteractive('df-9d698a45-9bc0-42d3-b989-664da591f0e9')\"\n",
              "              title=\"Convert this dataframe to an interactive table.\"\n",
              "              style=\"display:none;\">\n",
              "        \n",
              "  <svg xmlns=\"http://www.w3.org/2000/svg\" height=\"24px\"viewBox=\"0 0 24 24\"\n",
              "       width=\"24px\">\n",
              "    <path d=\"M0 0h24v24H0V0z\" fill=\"none\"/>\n",
              "    <path d=\"M18.56 5.44l.94 2.06.94-2.06 2.06-.94-2.06-.94-.94-2.06-.94 2.06-2.06.94zm-11 1L8.5 8.5l.94-2.06 2.06-.94-2.06-.94L8.5 2.5l-.94 2.06-2.06.94zm10 10l.94 2.06.94-2.06 2.06-.94-2.06-.94-.94-2.06-.94 2.06-2.06.94z\"/><path d=\"M17.41 7.96l-1.37-1.37c-.4-.4-.92-.59-1.43-.59-.52 0-1.04.2-1.43.59L10.3 9.45l-7.72 7.72c-.78.78-.78 2.05 0 2.83L4 21.41c.39.39.9.59 1.41.59.51 0 1.02-.2 1.41-.59l7.78-7.78 2.81-2.81c.8-.78.8-2.07 0-2.86zM5.41 20L4 18.59l7.72-7.72 1.47 1.35L5.41 20z\"/>\n",
              "  </svg>\n",
              "      </button>\n",
              "      \n",
              "  <style>\n",
              "    .colab-df-container {\n",
              "      display:flex;\n",
              "      flex-wrap:wrap;\n",
              "      gap: 12px;\n",
              "    }\n",
              "\n",
              "    .colab-df-convert {\n",
              "      background-color: #E8F0FE;\n",
              "      border: none;\n",
              "      border-radius: 50%;\n",
              "      cursor: pointer;\n",
              "      display: none;\n",
              "      fill: #1967D2;\n",
              "      height: 32px;\n",
              "      padding: 0 0 0 0;\n",
              "      width: 32px;\n",
              "    }\n",
              "\n",
              "    .colab-df-convert:hover {\n",
              "      background-color: #E2EBFA;\n",
              "      box-shadow: 0px 1px 2px rgba(60, 64, 67, 0.3), 0px 1px 3px 1px rgba(60, 64, 67, 0.15);\n",
              "      fill: #174EA6;\n",
              "    }\n",
              "\n",
              "    [theme=dark] .colab-df-convert {\n",
              "      background-color: #3B4455;\n",
              "      fill: #D2E3FC;\n",
              "    }\n",
              "\n",
              "    [theme=dark] .colab-df-convert:hover {\n",
              "      background-color: #434B5C;\n",
              "      box-shadow: 0px 1px 3px 1px rgba(0, 0, 0, 0.15);\n",
              "      filter: drop-shadow(0px 1px 2px rgba(0, 0, 0, 0.3));\n",
              "      fill: #FFFFFF;\n",
              "    }\n",
              "  </style>\n",
              "\n",
              "      <script>\n",
              "        const buttonEl =\n",
              "          document.querySelector('#df-9d698a45-9bc0-42d3-b989-664da591f0e9 button.colab-df-convert');\n",
              "        buttonEl.style.display =\n",
              "          google.colab.kernel.accessAllowed ? 'block' : 'none';\n",
              "\n",
              "        async function convertToInteractive(key) {\n",
              "          const element = document.querySelector('#df-9d698a45-9bc0-42d3-b989-664da591f0e9');\n",
              "          const dataTable =\n",
              "            await google.colab.kernel.invokeFunction('convertToInteractive',\n",
              "                                                     [key], {});\n",
              "          if (!dataTable) return;\n",
              "\n",
              "          const docLinkHtml = 'Like what you see? Visit the ' +\n",
              "            '<a target=\"_blank\" href=https://colab.research.google.com/notebooks/data_table.ipynb>data table notebook</a>'\n",
              "            + ' to learn more about interactive tables.';\n",
              "          element.innerHTML = '';\n",
              "          dataTable['output_type'] = 'display_data';\n",
              "          await google.colab.output.renderOutput(dataTable, element);\n",
              "          const docLink = document.createElement('div');\n",
              "          docLink.innerHTML = docLinkHtml;\n",
              "          element.appendChild(docLink);\n",
              "        }\n",
              "      </script>\n",
              "    </div>\n",
              "  </div>\n",
              "  "
            ]
          },
          "metadata": {},
          "execution_count": 69
        }
      ]
    },
    {
      "cell_type": "code",
      "source": [
        "Blocks.to_file(\"MyBlocks.gpkg\", driver=\"GPKG\")"
      ],
      "metadata": {
        "id": "jjvvh_awhN7Q"
      },
      "execution_count": null,
      "outputs": []
    },
    {
      "cell_type": "code",
      "source": [
        "!pip install geocube"
      ],
      "metadata": {
        "id": "pMIqq7vwe5wB"
      },
      "execution_count": null,
      "outputs": []
    },
    {
      "cell_type": "code",
      "source": [
        "from geocube.api.core import make_geocube"
      ],
      "metadata": {
        "id": "5H203hk9gDfX"
      },
      "execution_count": null,
      "outputs": []
    },
    {
      "cell_type": "code",
      "source": [
        "out_grid= make_geocube(vector_data=PrjBlocks, measurements=[\"PDensity\"], resolution=(-16, 16)) #for most crs negative comes first in resolution"
      ],
      "metadata": {
        "id": "159XEHLygJiy"
      },
      "execution_count": null,
      "outputs": []
    },
    {
      "cell_type": "code",
      "source": [
        "out_grid[\"PDensity\"].rio.to_raster(\"PDensity.tif\")"
      ],
      "metadata": {
        "id": "cVRceZjogV_2"
      },
      "execution_count": null,
      "outputs": []
    },
    {
      "cell_type": "code",
      "source": [
        "PrjBlocks = Blocks.to_crs(\"EPSG:32639\")"
      ],
      "metadata": {
        "id": "bZ1sfxThib2F"
      },
      "execution_count": null,
      "outputs": []
    },
    {
      "cell_type": "code",
      "source": [],
      "metadata": {
        "id": "dFy5K4pVYuLx"
      },
      "execution_count": null,
      "outputs": []
    }
  ]
}