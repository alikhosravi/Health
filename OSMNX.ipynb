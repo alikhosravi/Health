{
  "nbformat": 4,
  "nbformat_minor": 0,
  "metadata": {
    "colab": {
      "provenance": [],
      "authorship_tag": "ABX9TyO2zAJ2Hc7Ok/S2d08gZ2mj",
      "include_colab_link": true
    },
    "kernelspec": {
      "name": "python3",
      "display_name": "Python 3"
    },
    "language_info": {
      "name": "python"
    }
  },
  "cells": [
    {
      "cell_type": "markdown",
      "metadata": {
        "id": "view-in-github",
        "colab_type": "text"
      },
      "source": [
        "<a href=\"https://colab.research.google.com/github/alikhosravi/Spatial-Accessibility/blob/main/OSMNX.ipynb\" target=\"_parent\"><img src=\"https://colab.research.google.com/assets/colab-badge.svg\" alt=\"Open In Colab\"/></a>"
      ]
    },
    {
      "cell_type": "code",
      "execution_count": null,
      "metadata": {
        "id": "JiTeA4_mPQEq"
      },
      "outputs": [],
      "source": [
        "!pip install osmnx"
      ]
    },
    {
      "cell_type": "code",
      "source": [
        "import geopandas as gpd\n",
        "from google.colab import drive"
      ],
      "metadata": {
        "id": "4JD1m2UEPe3f"
      },
      "execution_count": null,
      "outputs": []
    },
    {
      "cell_type": "code",
      "source": [
        "drive.mount('/content/drive')\n",
        "gdb_file= '/content/drive/My Drive/Isfahan/MyGeodatabase.gdb'\n",
        "Blocks = gpd.read_file('/content/drive/My Drive/Isfahan/Inputs/block.gpkg')\n",
        "Blocks.drop(['code',\t'zone',\t'Shape_Area',\t'Mahalat',\t'Shape_Leng',\t'Shape_Ar_1'], inplace=True, axis=1)\n",
        "Clinics = gpd.read_file(gdb_file,layer='Clinics')\n",
        "Hospitals = gpd.read_file(gdb_file,layer='Hospitals')\n",
        "Labs = gpd.read_file(gdb_file,layer='Labs')\n",
        "Pharmacy = gpd.read_file(gdb_file,layer='Pharmacy')"
      ],
      "metadata": {
        "id": "eyrxLmfLPgzl"
      },
      "execution_count": null,
      "outputs": []
    },
    {
      "cell_type": "code",
      "source": [
        "G = ox.graph_from_place('Isfahan, Iran', network_type='drive')\n",
        "G = ox.utils_graph.get_largest_component(G, strongly=True)\n",
        "G = ox.add_edge_speeds(G)\n",
        "G = ox.add_edge_travel_times(G)"
      ],
      "metadata": {
        "id": "IuOgCHWLPjmE"
      },
      "execution_count": null,
      "outputs": []
    },
    {
      "cell_type": "code",
      "source": [
        "facilities = ['Hospital', 'Clinic', 'Lab', 'Pharmacy']"
      ],
      "metadata": {
        "id": "Nk2qq3kDPlXM"
      },
      "execution_count": null,
      "outputs": []
    },
    {
      "cell_type": "code",
      "source": [
        "Blocks[\"Nodes\"] = ox.distance.nearest_nodes(G, list(Blocks.centroid.x), list(Blocks.centroid.y))"
      ],
      "metadata": {
        "id": "iQXw-kM8Pm-o"
      },
      "execution_count": null,
      "outputs": []
    },
    {
      "cell_type": "code",
      "source": [
        "from shapely.ops import nearest_points\n",
        "def get_nearest_values(row, other_gdf, point_column='geometry', value_column=\"geometry\"):\n",
        "    other_points = other_gdf[\"geometry\"].unary_union\n",
        "    nearest_geoms = nearest_points(row[point_column], other_points)\n",
        "    nearest_data = other_gdf.loc[other_gdf[\"geometry\"] == nearest_geoms[1]]\n",
        "    nearest_value = nearest_data[value_column].values[0]\n",
        "    return nearest_value\n"
      ],
      "metadata": {
        "id": "lW2iBhOlPq1g"
      },
      "execution_count": null,
      "outputs": []
    },
    {
      "cell_type": "code",
      "source": [
        "Blocks['centroid'] = Blocks.centroid\n",
        "Blocks['nearest_Hospital'] = Blocks.apply(get_nearest_values, other_gdf = Hospitals, point_column=\"centroid\", value_column=\"geometry\", axis=1)\n",
        "Blocks['nearest_Clinic'] = Blocks.apply(get_nearest_values, other_gdf = Clinics, point_column=\"centroid\", value_column=\"geometry\", axis=1)\n",
        "Blocks['nearest_Lab'] = Blocks.apply(get_nearest_values, other_gdf = Labs, point_column=\"centroid\", value_column=\"geometry\", axis=1)\n",
        "Blocks['nearest_Pharmacy'] = Blocks.apply(get_nearest_values, other_gdf = Pharmacy, point_column=\"centroid\", value_column=\"geometry\", axis=1)\n",
        "Blocks[\"Nearest_Hospital_Node\"] = ox.distance.nearest_nodes(G, list(Blocks.nearest_Hospital.apply(lambda p: p.x)), list(Blocks.nearest_Hospital.apply(lambda p: p.y)))\n",
        "Blocks[\"Nearest_Clinic_Node\"] = ox.distance.nearest_nodes(G, list(Blocks.nearest_Clinic.apply(lambda p: p.x)), list(Blocks.nearest_Clinic.apply(lambda p: p.y)))\n",
        "Blocks[\"Nearest_Lab_Node\"] = ox.distance.nearest_nodes(G, list(Blocks.nearest_Lab.apply(lambda p: p.x)), list(Blocks.nearest_Lab.apply(lambda p: p.y)))\n",
        "Blocks[\"Nearest_Pharmacy_Node\"] = ox.distance.nearest_nodes(G, list(Blocks.nearest_Pharmacy.apply(lambda p: p.x)), list(Blocks.nearest_Pharmacy.apply(lambda p: p.y)))"
      ],
      "metadata": {
        "id": "9aPKB035PuFv"
      },
      "execution_count": null,
      "outputs": []
    },
    {
      "cell_type": "code",
      "source": [
        "for service in facilities:\n",
        "  times = list()\n",
        "  for block, facility in zip(Blocks[\"Nodes\"],Blocks[\"Nearest_\"+str(service)+\"_Node\"]):\n",
        "    times.append(nx.shortest_path_length(G, block, facility, weight='travel_time'))\n",
        "  Blocks[\"T2\"+str(service[0])]=times"
      ],
      "metadata": {
        "id": "azFkwbZGQB5y"
      },
      "execution_count": null,
      "outputs": []
    }
  ]
}